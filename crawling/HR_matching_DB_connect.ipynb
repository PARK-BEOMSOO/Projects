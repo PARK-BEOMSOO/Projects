{
 "cells": [
  {
   "cell_type": "code",
   "execution_count": 9,
   "id": "0de892c9",
   "metadata": {},
   "outputs": [],
   "source": [
    "import pandas as pd\n",
    "import cx_Oracle\n",
    "import os\n",
    "\n",
    "# 자신이 파일을 저장할 경로를 지정\n",
    "os.chdir(r'C:\\Users\\qkrqj\\workspace\\JupyterNotebook\\csv')\n",
    "\n",
    "os.putenv('NLS_LANG','KOREAN_KOREA.KO16MSWIN949')"
   ]
  },
  {
   "cell_type": "code",
   "execution_count": 10,
   "id": "65440723",
   "metadata": {},
   "outputs": [],
   "source": [
    "# 연결에 필요한 기본 정보 (유저, 비밀번호, 데이터베이스 서버 주소)\n",
    "database_server = 'localhost/xe'\n",
    "username = 'HMIS'\n",
    "password = '1234'\n",
    "\n",
    "# DB 연결\n",
    "connection = cx_Oracle.connect(username, password, database_server)\n",
    "\n",
    "# 커서 생성\n",
    "cursor = connection.cursor()"
   ]
  },
  {
   "cell_type": "code",
   "execution_count": 11,
   "id": "f9bd1c77",
   "metadata": {},
   "outputs": [],
   "source": [
    "# 테이블 데이터 불러오기\n",
    "def select(table):\n",
    "    \n",
    "    global database_server, username, password, connection, cursor\n",
    "    \n",
    "    query = \"select*from \" + table\n",
    "    data = pd.read_sql(query,connection)\n",
    "    \n",
    "    df = pd.DataFrame(data)\n",
    "    \n",
    "    return df"
   ]
  },
  {
   "cell_type": "code",
   "execution_count": 13,
   "id": "252534cf",
   "metadata": {},
   "outputs": [],
   "source": [
    "# 함수를 사용하여 가져온 데이터 변수에 저장\n",
    "user = select(\"TBL_USER\")\n",
    "posting = select(\"TBL_POSTING\")"
   ]
  },
  {
   "cell_type": "code",
   "execution_count": 14,
   "id": "8b683f30",
   "metadata": {},
   "outputs": [],
   "source": [
    "# csv 파일로 내려받기\n",
    "user.to_csv('user.csv', encoding='UTF-8-SIG')\n",
    "posting.to_csv('posting.csv', encoding='UTF-8-SIG')"
   ]
  }
 ],
 "metadata": {
  "kernelspec": {
   "display_name": "Python 3",
   "language": "python",
   "name": "python3"
  },
  "language_info": {
   "codemirror_mode": {
    "name": "ipython",
    "version": 3
   },
   "file_extension": ".py",
   "mimetype": "text/x-python",
   "name": "python",
   "nbconvert_exporter": "python",
   "pygments_lexer": "ipython3",
   "version": "3.8.8"
  }
 },
 "nbformat": 4,
 "nbformat_minor": 5
}
